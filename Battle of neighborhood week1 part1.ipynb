{
 "cells": [
  {
   "cell_type": "markdown",
   "metadata": {},
   "source": [
    "<h1>The Battle of the Neighborhoods - Week 1</h1>\n",
    "\n",
    "<h3>Introduction & Business Problem :</h3>\n",
    "<h4>Problem Background:<h4>\n",
    "\n",
    "The City of New York, is the most populous city in the United States. It is diverse and is the financial capital of USA. \n",
    "It is multicultural. It provides lot of business oppourtunities and business friendly environment. It has attracted \n",
    "many different players into the market. It is a global hub of business and commerce. The city is a major center for \n",
    "banking and finance, retailing, world trade, transportation, tourism, real estate, new media, traditional media, \n",
    "advertising, legal services, accountancy, insurance, theater, fashion, and the arts in the United States.\n",
    "\n",
    "This also means that the market is highly competitive. As it is highly developed city so cost of doing business \n",
    "is also one of the highest. Thus, any new business venture or expansion needs to be analysed carefully. The \n",
    "insights derived from analysis will give good understanding of the business environment which help in \n",
    "strategically targeting the market. This will help in reduction of risk. And the Return on Investment will be reasonable.\n",
    "\n",
    "<h3>Problem Description:</h3>\n",
    "\n",
    "A restaurant is a business which prepares and serves food and drink to customers in return for money, either\n",
    " paid before the meal, after the meal, or with an open account. The City of New York is famous for its excelllent \n",
    "cuisine. It's food culture includes an array of international cuisines influenced by the city's immigrant history.\n",
    "\n",
    "Central and Eastern European immigrants, especially Jewish immigrants - bagels, cheesecake, hot dogs, knishes,\n",
    " and delicatessens\n",
    "Italian immigrants - New York-style pizza and Italian cuisine\n",
    "Jewish immigrants and Irish immigrants - pastrami and corned beef\n",
    "Chinese and other Asian restaurants, sandwich joints, trattorias, diners, and coffeehouses are ubiquitous \n",
    "throughout the city\n",
    "mobile food vendors - Some 4,000 licensed by the city\n",
    "Middle Eastern foods such as falafel and kebabs examples of modern New York street food\n",
    "It is famous for not just Pizzerias, Cafe's but also for fine dining Michelin starred restaurants.The city is home to \n",
    "\"nearly one thousand of the finest and most diverse haute cuisine restaurants in the world\", according to Michelin.\n",
    "So it is evident that to survive in such competitive market it is very important to startegically plan. Various factors \n",
    "need to be studied inorder to decide on the Location such as :\n",
    "\n",
    "1.New York Population\n",
    "2.New York City Demographics\n",
    "3.Are there any Farmers Markets, Wholesale markets etc nearby so that \n",
    "the ingredients can be purchased fresh to maintain quality and cost?\n",
    "4.Are there any venues like Gyms, Entertainmnet zones, Parks etc nearby where floating population is high etc\n",
    "5.Who are the competitors in that location?\n",
    "6.Cuisine served / Menu of the competitors\n",
    "7.Segmentation of the Borough\n",
    "8.Untapped markets\n",
    "9.Saturated markets etc\n",
    "The list can go on...\n",
    "Eventhough well funded XYZ Company Ltd. need to choose the correct location to start its first venture.If this is\n",
    " successful they can replicate the same in other locations. First move is very important, thereby choice of location\n",
    " is very important.\n",
    "\n",
    "<h3>Target Audience:</h3>\n",
    "\n",
    " The objective is to locate and recommend to the management which neighborhood of Newyork city will be \n",
    "best choice to start a restaurant. The Management also expects to understand the rationale of the recommendations made.\n",
    "This would interest anyone who wants to start a new restaurant in Newyork city.\n",
    "\n",
    "<h3>Success Criteria:</h3>\n",
    "\n",
    "The success criteria of the project will be a good recommendation of borough/Neighborhood choice to XYZ Company Ltd \n",
    "based on Lack of such restaurants in that location and nearest suppliers of ingredients."
   ]
  },
  {
   "cell_type": "code",
   "execution_count": null,
   "metadata": {
    "collapsed": true
   },
   "outputs": [],
   "source": []
  }
 ],
 "metadata": {
  "anaconda-cloud": {},
  "kernelspec": {
   "display_name": "Python [conda root]",
   "language": "python",
   "name": "conda-root-py"
  },
  "language_info": {
   "codemirror_mode": {
    "name": "ipython",
    "version": 3
   },
   "file_extension": ".py",
   "mimetype": "text/x-python",
   "name": "python",
   "nbconvert_exporter": "python",
   "pygments_lexer": "ipython3",
   "version": "3.5.2"
  }
 },
 "nbformat": 4,
 "nbformat_minor": 1
}
